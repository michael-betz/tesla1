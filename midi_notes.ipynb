{
 "cells": [
  {
   "cell_type": "code",
   "execution_count": 1,
   "metadata": {},
   "outputs": [
    {
     "name": "stdout",
     "output_type": "stream",
     "text": [
      "Populating the interactive namespace from numpy and matplotlib\n"
     ]
    }
   ],
   "source": [
    "%pylab notebook"
   ]
  },
  {
   "cell_type": "code",
   "execution_count": 5,
   "metadata": {},
   "outputs": [],
   "source": [
    "def getf(m): \n",
    "    return 440 * 2**((m - 69) / 12)"
   ]
  },
  {
   "cell_type": "code",
   "execution_count": 17,
   "metadata": {},
   "outputs": [
    {
     "name": "stdout",
     "output_type": "stream",
     "text": [
      "unsigned midi_ftws[128] = {\n",
      "\t0x00004495, 0x000048a9, 0x00004cfb, 0x0000518f, \n",
      "\t0x00005668, 0x00005b8c, 0x000060fd, 0x000066c2, \n",
      "\t0x00006cde, 0x00007357, 0x00007a33, 0x00008177, \n",
      "\t0x0000892a, 0x00009152, 0x000099f7, 0x0000a31e, \n",
      "\t0x0000acd1, 0x0000b718, 0x0000c1fb, 0x0000cd84, \n",
      "\t0x0000d9bd, 0x0000e6af, 0x0000f467, 0x000102ef, \n",
      "\t0x00011255, 0x000122a5, 0x000133ee, 0x0001463d, \n",
      "\t0x000159a3, 0x00016e31, 0x000183f7, 0x00019b09, \n",
      "\t0x0001b37a, 0x0001cd5f, 0x0001e8ce, 0x000205df, \n",
      "\t0x000224ab, 0x0002454b, 0x000267dc, 0x00028c7b, \n",
      "\t0x0002b347, 0x0002dc62, 0x000307ef, 0x00033612, \n",
      "\t0x000366f5, 0x00039abf, 0x0003d19d, 0x00040bbf, \n",
      "\t0x00044956, 0x00048a96, 0x0004cfb8, 0x000518f6, \n",
      "\t0x0005668e, 0x0005b8c4, 0x00060fde, 0x00066c25, \n",
      "\t0x0006cdea, 0x0007357e, 0x0007a33b, 0x0008177f, \n",
      "\t0x000892ac, 0x0009152d, 0x00099f70, 0x000a31ec, \n",
      "\t0x000acd1d, 0x000b7189, 0x000c1fbc, 0x000cd84b, \n",
      "\t0x000d9bd4, 0x000e6afc, 0x000f4677, 0x00102efe, \n",
      "\t0x00112559, 0x00122a5a, 0x00133ee0, 0x001463d8, \n",
      "\t0x00159a3b, 0x0016e313, 0x00183f79, 0x0019b097, \n",
      "\t0x001b37a8, 0x001cd5f9, 0x001e8cee, 0x00205dfc, \n",
      "\t0x00224ab2, 0x002454b4, 0x00267dc1, 0x0028c7b0, \n",
      "\t0x002b3477, 0x002dc627, 0x00307ef3, 0x0033612f, \n",
      "\t0x00366f50, 0x0039abf3, 0x003d19dc, 0x0040bbf9, \n",
      "\t0x00449564, 0x0048a969, 0x004cfb82, 0x00518f60, \n",
      "\t0x005668ee, 0x005b8c4f, 0x0060fde7, 0x0066c25e, \n",
      "\t0x006cdea0, 0x007357e6, 0x007a33b8, 0x008177f2, \n",
      "\t0x00892ac9, 0x009152d2, 0x0099f704, 0x00a31ec1, \n",
      "\t0x00acd1dc, 0x00b7189e, 0x00c1fbcf, 0x00cd84bc, \n",
      "\t0x00d9bd40, 0x00e6afcc, 0x00f46770, 0x0102efe5, \n",
      "\t0x01125593, 0x0122a5a5, 0x0133ee09, 0x01463d83, \n",
      "\t0x0159a3b9, 0x016e313d, 0x0183f79f, 0x019b0979,\n",
      "};\n"
     ]
    }
   ],
   "source": [
    "BITS_PER_SEC = 1000000\n",
    "\n",
    "s = \"unsigned midi_ftws[128] = {\"\n",
    "for m in range(0, 128):\n",
    "    f = getf(m)\n",
    "    ftw = int(0x100000000 * f / BITS_PER_SEC / 2)\n",
    "#     print(m, f, ftw)\n",
    "    if (m % 4 == 0):\n",
    "        s += '\\n\\t'\n",
    "    s += '0x{:08x}, '.format(ftw)\n",
    "s = s[:-1] + \"\\n};\"\n",
    "print(s)"
   ]
  },
  {
   "cell_type": "code",
   "execution_count": null,
   "metadata": {},
   "outputs": [],
   "source": []
  }
 ],
 "metadata": {
  "kernelspec": {
   "display_name": "Python 3",
   "language": "python",
   "name": "python3"
  },
  "language_info": {
   "codemirror_mode": {
    "name": "ipython",
    "version": 3
   },
   "file_extension": ".py",
   "mimetype": "text/x-python",
   "name": "python",
   "nbconvert_exporter": "python",
   "pygments_lexer": "ipython3",
   "version": "3.8.3"
  }
 },
 "nbformat": 4,
 "nbformat_minor": 4
}
